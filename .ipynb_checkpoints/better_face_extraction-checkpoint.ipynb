{
 "cells": [
  {
   "cell_type": "code",
   "execution_count": 7,
   "metadata": {},
   "outputs": [],
   "source": [
    "import pickle"
   ]
  },
  {
   "cell_type": "code",
   "execution_count": 8,
   "metadata": {},
   "outputs": [],
   "source": [
    "f1 = open('true_face_haar.pickle', 'rb')\n",
    "f2 = open('inferred_face_haar.pickle', 'rb')\n",
    "f3 = open('better_face_extraction.pickle', 'rb')"
   ]
  },
  {
   "cell_type": "code",
   "execution_count": 9,
   "metadata": {},
   "outputs": [],
   "source": [
    "true_dict = pickle.load(f1)\n",
    "inferred_dict = pickle.load(f2)\n",
    "better_dict = pickle.load(f3)"
   ]
  },
  {
   "cell_type": "markdown",
   "metadata": {},
   "source": [
    "## FPS"
   ]
  },
  {
   "cell_type": "code",
   "execution_count": 10,
   "metadata": {},
   "outputs": [],
   "source": [
    "true_list = []\n",
    "for key, value in true_dict.items():\n",
    "    true_list.append(value['sec'])\n",
    "true_list = [1/item for item in true_list[1:]] # discard 1st frame for cold start latency"
   ]
  },
  {
   "cell_type": "code",
   "execution_count": 11,
   "metadata": {},
   "outputs": [],
   "source": [
    "inferred_list = []\n",
    "for key, value in inferred_dict.items():\n",
    "    inferred_list.append(value['sec'])\n",
    "inferred_list = [1/item for item in inferred_list[1:]] # discard 1st frame for cold start latency"
   ]
  },
  {
   "cell_type": "code",
   "execution_count": 12,
   "metadata": {},
   "outputs": [],
   "source": [
    "better_list = []\n",
    "for key, value in better_dict.items():\n",
    "    better_list.append(value['sec'])\n",
    "better_list = [1/item for item in better_list[1:]] # discard 1st frame for cold start latency"
   ]
  },
  {
   "cell_type": "code",
   "execution_count": 13,
   "metadata": {},
   "outputs": [],
   "source": [
    "import plotly\n",
    "import plotly.plotly as py\n",
    "import plotly.graph_objs as go"
   ]
  },
  {
   "cell_type": "code",
   "execution_count": 14,
   "metadata": {},
   "outputs": [],
   "source": [
    "import pandas as pd"
   ]
  },
  {
   "cell_type": "code",
   "execution_count": 15,
   "metadata": {},
   "outputs": [
    {
     "data": {
      "text/html": [
       "<div>\n",
       "<style scoped>\n",
       "    .dataframe tbody tr th:only-of-type {\n",
       "        vertical-align: middle;\n",
       "    }\n",
       "\n",
       "    .dataframe tbody tr th {\n",
       "        vertical-align: top;\n",
       "    }\n",
       "\n",
       "    .dataframe thead th {\n",
       "        text-align: right;\n",
       "    }\n",
       "</style>\n",
       "<table border=\"1\" class=\"dataframe\">\n",
       "  <thead>\n",
       "    <tr style=\"text-align: right;\">\n",
       "      <th></th>\n",
       "      <th>true</th>\n",
       "      <th>inferred</th>\n",
       "      <th>better</th>\n",
       "    </tr>\n",
       "  </thead>\n",
       "  <tbody>\n",
       "    <tr>\n",
       "      <th>0</th>\n",
       "      <td>10.006833</td>\n",
       "      <td>6.141523</td>\n",
       "      <td>4.630809</td>\n",
       "    </tr>\n",
       "    <tr>\n",
       "      <th>1</th>\n",
       "      <td>10.233229</td>\n",
       "      <td>5.895422</td>\n",
       "      <td>4.918706</td>\n",
       "    </tr>\n",
       "    <tr>\n",
       "      <th>2</th>\n",
       "      <td>10.520319</td>\n",
       "      <td>5.731685</td>\n",
       "      <td>4.934417</td>\n",
       "    </tr>\n",
       "    <tr>\n",
       "      <th>3</th>\n",
       "      <td>10.790039</td>\n",
       "      <td>6.370788</td>\n",
       "      <td>5.045209</td>\n",
       "    </tr>\n",
       "    <tr>\n",
       "      <th>4</th>\n",
       "      <td>8.121335</td>\n",
       "      <td>6.474830</td>\n",
       "      <td>5.028382</td>\n",
       "    </tr>\n",
       "  </tbody>\n",
       "</table>\n",
       "</div>"
      ],
      "text/plain": [
       "        true  inferred    better\n",
       "0  10.006833  6.141523  4.630809\n",
       "1  10.233229  5.895422  4.918706\n",
       "2  10.520319  5.731685  4.934417\n",
       "3  10.790039  6.370788  5.045209\n",
       "4   8.121335  6.474830  5.028382"
      ]
     },
     "execution_count": 15,
     "metadata": {},
     "output_type": "execute_result"
    }
   ],
   "source": [
    "df = pd.DataFrame([true_list, inferred_list, better_list]).transpose()\n",
    "df.columns = ['true','inferred','better']\n",
    "df.head()"
   ]
  },
  {
   "cell_type": "code",
   "execution_count": 16,
   "metadata": {
    "scrolled": true
   },
   "outputs": [],
   "source": [
    "# df.describe().to_html()"
   ]
  },
  {
   "cell_type": "code",
   "execution_count": 17,
   "metadata": {},
   "outputs": [],
   "source": [
    "data = [{\n",
    "    'x': df.index,\n",
    "    'y': df[col],\n",
    "    'name': col\n",
    "}  for col in df.columns]"
   ]
  },
  {
   "cell_type": "code",
   "execution_count": 18,
   "metadata": {},
   "outputs": [],
   "source": [
    "layout = go.Layout(\n",
    "    title='Face Extraction (true v. inferred v. better)',\n",
    "    yaxis=dict(       \n",
    "        title='fps',\n",
    "    ),\n",
    "    xaxis=dict(\n",
    "        title='frame number',\n",
    "    )\n",
    ")"
   ]
  },
  {
   "cell_type": "code",
   "execution_count": 19,
   "metadata": {},
   "outputs": [],
   "source": [
    "fig = go.Figure(data=data, layout=layout)"
   ]
  },
  {
   "cell_type": "code",
   "execution_count": 20,
   "metadata": {},
   "outputs": [
    {
     "name": "stderr",
     "output_type": "stream",
     "text": [
      "/Library/Frameworks/Python.framework/Versions/3.7/lib/python3.7/site-packages/IPython/core/display.py:689: UserWarning:\n",
      "\n",
      "Consider using IPython.display.IFrame instead\n",
      "\n"
     ]
    },
    {
     "data": {
      "text/html": [
       "<iframe id=\"igraph\" scrolling=\"no\" style=\"border:none;\" seamless=\"seamless\" src=\"https://plot.ly/~ptinsley/456.embed\" height=\"525px\" width=\"100%\"></iframe>"
      ],
      "text/plain": [
       "<chart_studio.tools.PlotlyDisplay object>"
      ]
     },
     "execution_count": 20,
     "metadata": {},
     "output_type": "execute_result"
    }
   ],
   "source": [
    "py.iplot(fig)"
   ]
  },
  {
   "cell_type": "markdown",
   "metadata": {},
   "source": [
    "## Accuracy"
   ]
  },
  {
   "cell_type": "code",
   "execution_count": 15,
   "metadata": {},
   "outputs": [],
   "source": [
    "appearances = {}\n",
    "f = open('clip-Appearances.txt','r')\n",
    "for x in f:\n",
    "    split = x.strip('\\n').split(',')\n",
    "    actor = int(split[0])\n",
    "    appearances[actor] = [int(split[1]), int(split[2])]"
   ]
  },
  {
   "cell_type": "code",
   "execution_count": 16,
   "metadata": {},
   "outputs": [
    {
     "data": {
      "text/plain": [
       "{0: [107, 292], 1: [763, 1018]}"
      ]
     },
     "execution_count": 16,
     "metadata": {},
     "output_type": "execute_result"
    }
   ],
   "source": [
    "appearances"
   ]
  },
  {
   "cell_type": "code",
   "execution_count": 19,
   "metadata": {},
   "outputs": [],
   "source": [
    "# 'true' found\n",
    "\n",
    "tp = 0 # face there, face detected\n",
    "fn = 0 # face there, face not detected\n",
    "\n",
    "for actor in appearances.keys():\n",
    "    for fnum in range(appearances[actor][0], appearances[actor][1]):\n",
    "        true_found = true_dict[fnum]['coords_list']\n",
    "        if len(true_found)>0: # detected\n",
    "            tp += 1\n",
    "        else: # not detected\n",
    "            fn += 1"
   ]
  },
  {
   "cell_type": "code",
   "execution_count": 20,
   "metadata": {},
   "outputs": [
    {
     "data": {
      "text/plain": [
       "(257, 183)"
      ]
     },
     "execution_count": 20,
     "metadata": {},
     "output_type": "execute_result"
    }
   ],
   "source": [
    "tp, fn"
   ]
  },
  {
   "cell_type": "code",
   "execution_count": 21,
   "metadata": {},
   "outputs": [
    {
     "data": {
      "text/plain": [
       "(0.5840909090909091, 0.4159090909090909)"
      ]
     },
     "execution_count": 21,
     "metadata": {},
     "output_type": "execute_result"
    }
   ],
   "source": [
    "tp / (tp+fn), fn / (tp+fn)"
   ]
  },
  {
   "cell_type": "code",
   "execution_count": 22,
   "metadata": {},
   "outputs": [],
   "source": [
    "# 'infer' found\n",
    "\n",
    "tp = 0 # face there, face detected\n",
    "fn = 0 # face there, face not detected\n",
    "\n",
    "fn_frames = []\n",
    "for actor in appearances.keys():\n",
    "    for fnum in range(appearances[actor][0], appearances[actor][1]):\n",
    "        inferred_found = inferred_dict[fnum]['coords_list']\n",
    "        if len(inferred_found)>0: # detected\n",
    "            tp += 1\n",
    "        else: # not detected\n",
    "            fn_frames.append(fnum)\n",
    "            fn += 1"
   ]
  },
  {
   "cell_type": "code",
   "execution_count": 23,
   "metadata": {},
   "outputs": [
    {
     "data": {
      "text/plain": [
       "(185, 255)"
      ]
     },
     "execution_count": 23,
     "metadata": {},
     "output_type": "execute_result"
    }
   ],
   "source": [
    "tp, fn"
   ]
  },
  {
   "cell_type": "code",
   "execution_count": 24,
   "metadata": {},
   "outputs": [
    {
     "data": {
      "text/plain": [
       "(0.42045454545454547, 0.5795454545454546)"
      ]
     },
     "execution_count": 24,
     "metadata": {},
     "output_type": "execute_result"
    }
   ],
   "source": [
    "tp / (tp+fn), fn / (tp+fn)"
   ]
  },
  {
   "cell_type": "markdown",
   "metadata": {},
   "source": [
    "This poor accuracy is due to the fact that sometimes the body detector fails, which means a face cannot be found. We can remedy this by using a more accurate body detector. Options: YOLOv3, etc."
   ]
  },
  {
   "cell_type": "code",
   "execution_count": 25,
   "metadata": {},
   "outputs": [],
   "source": [
    "# To confirm our suspicions, let's look at the false negatives reported by the inferred version."
   ]
  },
  {
   "cell_type": "code",
   "execution_count": 26,
   "metadata": {},
   "outputs": [],
   "source": [
    "no_body_no_face = 0 # want to minimize this\n",
    "yes_body_no_face = 0 # want to minimize this\n",
    "\n",
    "for fnum in fn_frames:\n",
    "    body = inferred_dict[fnum]['found_body']\n",
    "    face = inferred_dict[fnum]['found_face']\n",
    "    \n",
    "    if (not body) & (not face): no_body_no_face += 1\n",
    "    else: yes_body_no_face += 1"
   ]
  },
  {
   "cell_type": "code",
   "execution_count": 27,
   "metadata": {},
   "outputs": [
    {
     "data": {
      "text/plain": [
       "(54, 201)"
      ]
     },
     "execution_count": 27,
     "metadata": {},
     "output_type": "execute_result"
    }
   ],
   "source": [
    "no_body_no_face, yes_body_no_face"
   ]
  },
  {
   "cell_type": "markdown",
   "metadata": {},
   "source": [
    "Ok, so the detector did not perform as poorly as I expected. I expected that there would be more instances of no_body_no_face. However, 54/255 = ~21% of the missed labels stem from the fact that a body could not be detected. It seems that both the face and body detectors need improvement."
   ]
  }
 ],
 "metadata": {
  "kernelspec": {
   "display_name": "Python 3",
   "language": "python",
   "name": "python3"
  },
  "language_info": {
   "codemirror_mode": {
    "name": "ipython",
    "version": 3
   },
   "file_extension": ".py",
   "mimetype": "text/x-python",
   "name": "python",
   "nbconvert_exporter": "python",
   "pygments_lexer": "ipython3",
   "version": "3.7.3"
  }
 },
 "nbformat": 4,
 "nbformat_minor": 2
}
