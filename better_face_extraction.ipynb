{
 "cells": [
  {
   "cell_type": "code",
   "execution_count": null,
   "metadata": {},
   "outputs": [],
   "source": [
    "import pickle"
   ]
  },
  {
   "cell_type": "code",
   "execution_count": null,
   "metadata": {},
   "outputs": [],
   "source": [
    "f1 = open('true_face_haar.pickle', 'rb')\n",
    "f2 = open('inferred_face_haar.pickle', 'rb')\n",
    "f3 = open('better_face_extraction.pickle', 'rb')"
   ]
  },
  {
   "cell_type": "code",
   "execution_count": null,
   "metadata": {},
   "outputs": [],
   "source": [
    "true_dict = pickle.load(f1)\n",
    "inferred_dict = pickle.load(f2)\n",
    "better_dict = pickle.load(f3)"
   ]
  },
  {
   "cell_type": "markdown",
   "metadata": {},
   "source": [
    "## FPS"
   ]
  },
  {
   "cell_type": "code",
   "execution_count": null,
   "metadata": {},
   "outputs": [],
   "source": [
    "true_list = []\n",
    "for key, value in true_dict.items():\n",
    "    true_list.append(value['sec'])\n",
    "true_list = [1/item for item in true_list[1:]] # discard 1st frame for cold start latency"
   ]
  },
  {
   "cell_type": "code",
   "execution_count": null,
   "metadata": {},
   "outputs": [],
   "source": [
    "inferred_list = []\n",
    "for key, value in inferred_dict.items():\n",
    "    inferred_list.append(value['sec'])\n",
    "inferred_list = [1/item for item in inferred_list[1:]] # discard 1st frame for cold start latency"
   ]
  },
  {
   "cell_type": "code",
   "execution_count": null,
   "metadata": {},
   "outputs": [],
   "source": [
    "better_list = []\n",
    "for key, value in better_dict.items():\n",
    "    better_list.append(value['sec'])\n",
    "better_list = [1/item for item in better_list[1:]] # discard 1st frame for cold start latency"
   ]
  },
  {
   "cell_type": "code",
   "execution_count": null,
   "metadata": {},
   "outputs": [],
   "source": [
    "import plotly\n",
    "import plotly.plotly as py\n",
    "import plotly.graph_objs as go"
   ]
  },
  {
   "cell_type": "code",
   "execution_count": null,
   "metadata": {},
   "outputs": [],
   "source": [
    "import pandas as pd"
   ]
  },
  {
   "cell_type": "code",
   "execution_count": null,
   "metadata": {},
   "outputs": [],
   "source": [
    "df = pd.DataFrame([true_list, inferred_list, better_list]).transpose()\n",
    "df.columns = ['true','inferred','better']\n",
    "df.head()"
   ]
  },
  {
   "cell_type": "code",
   "execution_count": null,
   "metadata": {
    "scrolled": true
   },
   "outputs": [],
   "source": [
    "# df.describe().to_html()"
   ]
  },
  {
   "cell_type": "code",
   "execution_count": null,
   "metadata": {},
   "outputs": [],
   "source": [
    "data = [{\n",
    "    'x': df.index,\n",
    "    'y': df[col],\n",
    "    'name': col\n",
    "}  for col in df.columns]"
   ]
  },
  {
   "cell_type": "code",
   "execution_count": null,
   "metadata": {},
   "outputs": [],
   "source": [
    "layout = go.Layout(\n",
    "    title='Face Extraction (true v. inferred v. better)',\n",
    "    yaxis=dict(       \n",
    "        title='fps',\n",
    "    ),\n",
    "    xaxis=dict(\n",
    "        title='frame number',\n",
    "    )\n",
    ")"
   ]
  },
  {
   "cell_type": "code",
   "execution_count": null,
   "metadata": {},
   "outputs": [],
   "source": [
    "fig = go.Figure(data=data, layout=layout)"
   ]
  },
  {
   "cell_type": "code",
   "execution_count": null,
   "metadata": {},
   "outputs": [],
   "source": [
    "# py.iplot(fig)"
   ]
  },
  {
   "cell_type": "markdown",
   "metadata": {},
   "source": [
    "## Accuracy"
   ]
  },
  {
   "cell_type": "code",
   "execution_count": null,
   "metadata": {},
   "outputs": [],
   "source": [
    "appearances = {}\n",
    "f = open('clip-Appearances.txt','r')\n",
    "for x in f:\n",
    "    split = x.strip('\\n').split(',')\n",
    "    actor = int(split[0])\n",
    "    appearances[actor] = [int(split[1]), int(split[2])]"
   ]
  },
  {
   "cell_type": "code",
   "execution_count": null,
   "metadata": {},
   "outputs": [],
   "source": [
    "appearances"
   ]
  },
  {
   "cell_type": "code",
   "execution_count": null,
   "metadata": {},
   "outputs": [],
   "source": [
    "# 'better' found\n",
    "\n",
    "tp = 0 # face there, face detected\n",
    "fn = 0 # face there, face not detected\n",
    "\n",
    "for actor in appearances:\n",
    "    for fnum in range(appearances[actor][0], appearances[actor][1]):\n",
    "        \n",
    "        face_found = better_dict[fnum]['coords_list']\n",
    "        \n",
    "        if len(face_found)>0: # detected\n",
    "            tp += 1\n",
    "        else: # not detected\n",
    "            fn += 1"
   ]
  },
  {
   "cell_type": "code",
   "execution_count": null,
   "metadata": {},
   "outputs": [],
   "source": [
    "(tp, fn)"
   ]
  },
  {
   "cell_type": "markdown",
   "metadata": {},
   "source": [
    "## Accuracy (Part 2)"
   ]
  },
  {
   "cell_type": "code",
   "execution_count": null,
   "metadata": {},
   "outputs": [],
   "source": [
    "yes_face = []\n",
    "for actor in appearances:\n",
    "    for fnum in range(appearances[actor][0], appearances[actor][1]):\n",
    "        yes_face.append(fnum)"
   ]
  },
  {
   "cell_type": "code",
   "execution_count": null,
   "metadata": {},
   "outputs": [],
   "source": [
    "all_frames = list(better_dict.keys())\n",
    "len(all_frames)"
   ]
  },
  {
   "cell_type": "code",
   "execution_count": null,
   "metadata": {},
   "outputs": [],
   "source": [
    "no_face = list(set(all_frames) - set(yes_face))\n",
    "len(yes_face), len(no_face)"
   ]
  },
  {
   "cell_type": "code",
   "execution_count": null,
   "metadata": {},
   "outputs": [],
   "source": [
    "tn = 0 # face not there, face not detected\n",
    "fp = 0 # face not there, face detected\n",
    "\n",
    "for fnum in better_dict.keys():\n",
    "    if fnum in no_face:\n",
    "        \n",
    "#         face_found = true_dict[fnum]['coords_list']\n",
    "#         face_found = inferred_dict[fnum]['coords_list']\n",
    "        face_found = better_dict[fnum]['coords_list']\n",
    "\n",
    "        if len(face_found)>0: # detected\n",
    "            fp += 1\n",
    "        else: # not detected\n",
    "            tn += 1"
   ]
  },
  {
   "cell_type": "code",
   "execution_count": null,
   "metadata": {},
   "outputs": [],
   "source": [
    "(tn, fp)"
   ]
  },
  {
   "cell_type": "code",
   "execution_count": null,
   "metadata": {},
   "outputs": [],
   "source": [
    "# (687, 7) for true\n",
    "# (694, 0) for inferred\n",
    "# (694, 0) for better"
   ]
  }
 ],
 "metadata": {
  "kernelspec": {
   "display_name": "Python 3",
   "language": "python",
   "name": "python3"
  },
  "language_info": {
   "codemirror_mode": {
    "name": "ipython",
    "version": 3
   },
   "file_extension": ".py",
   "mimetype": "text/x-python",
   "name": "python",
   "nbconvert_exporter": "python",
   "pygments_lexer": "ipython3",
   "version": "3.7.3"
  }
 },
 "nbformat": 4,
 "nbformat_minor": 2
}
